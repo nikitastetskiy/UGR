{
 "cells": [
  {
   "cell_type": "markdown",
   "metadata": {},
   "source": [
    "# Antonio García Castillo y Nikita Stetskiy"
   ]
  },
  {
   "cell_type": "markdown",
   "metadata": {},
   "source": [
    "## Tarea 1"
   ]
  },
  {
   "cell_type": "markdown",
   "metadata": {},
   "source": [
    "a) Implemente e(a, b) suponiendo que tanto a como b son números naturales.\n"
   ]
  },
  {
   "cell_type": "code",
   "execution_count": 1,
   "metadata": {},
   "outputs": [],
   "source": [
    "def e(a,n):\n",
    "    # exp es el resultado\n",
    "    # x es la base\n",
    "    # n es el exponente\n",
    "    exp = 1\n",
    "    x = a\n",
    "    # realizamos el bucle hasta\n",
    "    # que n sea cero\n",
    "    while n != 0:\n",
    "        # entra cuando n sea impar\n",
    "        if (n%2) != 0:\n",
    "            exp *= x\n",
    "        # esta operación la hace siempre\n",
    "        x *= x \n",
    "        # quitamos un bit a la derecha\n",
    "        # se va dividiendo el exponente n entre 2\n",
    "        # con el fin de obtener los dígitos del exponente en binario\n",
    "        n  = n >> 1\n",
    "    # devolvemos resultado\n",
    "    return exp"
   ]
  },
  {
   "cell_type": "code",
   "execution_count": 2,
   "metadata": {},
   "outputs": [
    {
     "data": {
      "text/plain": [
       "8"
      ]
     },
     "execution_count": 2,
     "metadata": {},
     "output_type": "execute_result"
    }
   ],
   "source": [
    "e(2,3)"
   ]
  },
  {
   "cell_type": "markdown",
   "metadata": {
    "scrolled": true
   },
   "source": [
    "b) Modifique la implementación anterior para dar un sentido coherente a e(a,b) permitiendo que b sea un número entero cualquiera"
   ]
  },
  {
   "cell_type": "code",
   "execution_count": 3,
   "metadata": {},
   "outputs": [],
   "source": [
    "def e_apB(a,n):\n",
    "    signo_a = 1\n",
    "    signo_n = 1\n",
    "    e_aux = abs(n)\n",
    "    # si las base o el exponente es negativo, cambiamos el signo de estos\n",
    "    if(a<0):\n",
    "        signo_a=-1\n",
    "    if(n<0):\n",
    "        signo_n=-1\n",
    "    # las operaciones las haremos con variables positivas\n",
    "    a = abs(a)\n",
    "    n = abs(n)\n",
    "    # realizamos el mismo procedimiento del ejercicio anterior\n",
    "    exp = 1\n",
    "    x = a\n",
    "    while n != 0:\n",
    "        if (n%2) != 0:\n",
    "            exp *= x\n",
    "        x *= x \n",
    "        n  = n >> 1\n",
    "    # aunque esta vez tenemos en cuenta el signo\n",
    "    # si el signo del exponente es negativo, lo devolvemos como fracción\n",
    "    # si el signo del exponente y la base es negativo, teniendo en cuenta\n",
    "    # que el exponente es impar, lo devolvemos como fracción negativa\n",
    "    # si el signo de la base es negativo y el exponente negativo, lo devolvemos como negativo\n",
    "    if signo_n == -1:\n",
    "        if signo_a == -1 and e_aux%2 != 0:\n",
    "            return (1/exp)*signo_a\n",
    "        else:\n",
    "            return 1/exp\n",
    "        \n",
    "    elif signo_a == -1 and e_aux%2 != 0:\n",
    "        return exp*signo_a\n",
    "    \n",
    "    else:\n",
    "        return exp\n",
    "    \n"
   ]
  },
  {
   "cell_type": "code",
   "execution_count": 4,
   "metadata": {},
   "outputs": [
    {
     "data": {
      "text/plain": [
       "1/10000"
      ]
     },
     "execution_count": 4,
     "metadata": {},
     "output_type": "execute_result"
    }
   ],
   "source": [
    "e_apB(-100,-2)"
   ]
  },
  {
   "cell_type": "markdown",
   "metadata": {},
   "source": [
    "c) Modifique esta última implementación para hacer el cálculo módulo un número natural n distinto de 0 y 1"
   ]
  },
  {
   "cell_type": "code",
   "execution_count": 5,
   "metadata": {},
   "outputs": [],
   "source": [
    "def e_apC(a,n, mod):\n",
    "    # hacemos el mismo procedimiento que en el ejercicio anterior,\n",
    "    # aunque esta vez tenemos en cuenta el módulo. En esta sección\n",
    "    # comprobamos si el módulo puede llegar a ser 0 ó 1\n",
    "    if ( mod != 0 and mod != 1):\n",
    "        signo_a = 1\n",
    "        signo_n = 1\n",
    "        e_aux = abs(n)\n",
    "\n",
    "        if(a<0):\n",
    "            signo_a=-1\n",
    "        if(n<0):\n",
    "            signo_n=-1\n",
    "\n",
    "        a = abs(a)\n",
    "        n = abs(n)\n",
    "\n",
    "        exp = 1\n",
    "        # la idea detrás de esto es que obtenemos las cuadrados sucesivos\n",
    "        # y realizamos los módulos de la base mod a la vez para la correcta exponenciación modular\n",
    "        x = a %mod\n",
    "        while n != 0:\n",
    "            if (n%2) != 0:\n",
    "                exp = (exp*x) % mod\n",
    "            x = (x*x) % mod \n",
    "            n  = n >> 1\n",
    "\n",
    "        if signo_n == -1:\n",
    "            if signo_a == -1 and e_aux%2 != 0:\n",
    "                return (1/exp)*signo_a\n",
    "            else:\n",
    "                return 1/exp\n",
    "        \n",
    "        elif signo_a == -1 and e_aux%2 != 0:\n",
    "            return exp*signo_a\n",
    "        \n",
    "        else:\n",
    "            return exp\n",
    "        "
   ]
  },
  {
   "cell_type": "code",
   "execution_count": 6,
   "metadata": {},
   "outputs": [
    {
     "data": {
      "text/plain": [
       "3"
      ]
     },
     "execution_count": 6,
     "metadata": {},
     "output_type": "execute_result"
    }
   ],
   "source": [
    "e_apC(2,3,5)"
   ]
  },
  {
   "cell_type": "code",
   "execution_count": null,
   "metadata": {},
   "outputs": [],
   "source": []
  },
  {
   "cell_type": "code",
   "execution_count": null,
   "metadata": {},
   "outputs": [],
   "source": []
  }
 ],
 "metadata": {
  "kernelspec": {
   "display_name": "SageMath 9.1",
   "language": "sage",
   "name": "sagemath"
  },
  "language_info": {
   "codemirror_mode": {
    "name": "ipython",
    "version": 3
   },
   "file_extension": ".py",
   "mimetype": "text/x-python",
   "name": "python",
   "nbconvert_exporter": "python",
   "pygments_lexer": "ipython3",
   "version": "3.7.3"
  }
 },
 "nbformat": 4,
 "nbformat_minor": 2
}
