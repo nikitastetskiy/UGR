{
 "cells": [
  {
   "cell_type": "markdown",
   "metadata": {},
   "source": [
    "# RC4\n",
    "\n",
    "Dentro de la criptografía **RC4** es el sistema de cifrado de flujo más utilizado y es usado en protocolos como TLS/SSL o WEP. RC4 fue excluido de los estándares de alta seguridad por los criptógrafos pero algunos sistemas basados en RC4 son lo suficiente seguros para un uso común.\n",
    "\n",
    "RC4 es un protocolo sorprendentemente simple que emplea dos algoritmos, *Key Scheduling Algorithm* (KSA) y *Pesudo-Random Generation Algorithm* (PRGA). Cada uno utiliza una S-box 8x8, que es un arreglo con los 256 bytes posibles permutados y dos índices de 8 bits. KSA genera una permutación en la S-box basandose en una llave de longitud variable (*keylength* de entre 40 y 2048 bits)."
   ]
  },
  {
   "cell_type": "code",
   "execution_count": 1,
   "metadata": {},
   "outputs": [],
   "source": [
    "def KSA(key):\n",
    "    keylength = len(key)\n",
    "\n",
    "    S = list(range(256))\n",
    "\n",
    "    j = 0\n",
    "    for i in range(256):\n",
    "        j = (j + S[i] + key[i % keylength]) % 256\n",
    "        S[i], S[j] = S[j], S[i]  # swap\n",
    "\n",
    "    return S"
   ]
  },
  {
   "cell_type": "markdown",
   "metadata": {},
   "source": [
    "Cuando se necesita el *keystream* se usa PRGA. Este algoritmo tiene dos contadores, el i y la j, los cuales son inicializados a 0. Cada vez que se llama a esta función se obtiene el siguiente byte del *keystream*."
   ]
  },
  {
   "cell_type": "code",
   "execution_count": 2,
   "metadata": {},
   "outputs": [],
   "source": [
    "def PRGA(S):\n",
    "    i = 0\n",
    "    j = 0\n",
    "    while True:\n",
    "        i = (i + 1) % 256\n",
    "        j = (j + S[i]) % 256\n",
    "        S[i], S[j] = S[j], S[i]  # swap\n",
    "\n",
    "        K = S[(S[i] + S[j]) % 256]\n",
    "        yield K\n",
    "    "
   ]
  },
  {
   "cell_type": "code",
   "execution_count": 3,
   "metadata": {},
   "outputs": [],
   "source": [
    "def RC4(key):\n",
    "    S = KSA(key)\n",
    "    return PRGA(S)"
   ]
  },
  {
   "cell_type": "markdown",
   "metadata": {},
   "source": [
    "Para cada byte del mensaje se obtiene un byte del *keystream* y se realiza la operacion XOR para obtener un nuevo byte de mensaje cifrado."
   ]
  },
  {
   "cell_type": "code",
   "execution_count": 4,
   "metadata": {
    "scrolled": false
   },
   "outputs": [
    {
     "name": "stdout",
     "output_type": "stream",
     "text": [
      "BBF316E8D940AF0AD3\n"
     ]
    }
   ],
   "source": [
    "# ciphertext should be BBF316E8D940AF0AD3\n",
    "key = 'Key'\n",
    "plaintext = 'Plaintext'\n",
    "\n",
    "# ciphertext should be 1021BF0420\n",
    "#key = 'Wiki'\n",
    "#plaintext = 'pedia'\n",
    "\n",
    "# ciphertext should be 45A01F645FC35B383552544B9BF5\n",
    "#key = 'Secret'\n",
    "#plaintext = 'Attack at dawn'\n",
    "\n",
    "def convert_key(s):\n",
    "    return [ord(c) for c in s]\n",
    "key = convert_key(key)\n",
    "\n",
    "keystream = RC4(key)\n",
    "\n",
    "\n",
    "s=\"\"\n",
    "for c in plaintext:\n",
    "    #number = (ord(c) ^^ next(keystream))\n",
    "    #print(number)\n",
    "    s = s + '%02X' % (ord(c) ^^ next(keystream))\n",
    "print(s)\n"
   ]
  }
 ],
 "metadata": {
  "kernelspec": {
   "display_name": "SageMath 9.2",
   "language": "sage",
   "name": "sagemath"
  },
  "language_info": {
   "codemirror_mode": {
    "name": "ipython",
    "version": 3
   },
   "file_extension": ".py",
   "mimetype": "text/x-python",
   "name": "python",
   "nbconvert_exporter": "python",
   "pygments_lexer": "ipython3",
   "version": "3.8.5"
  }
 },
 "nbformat": 4,
 "nbformat_minor": 4
}
