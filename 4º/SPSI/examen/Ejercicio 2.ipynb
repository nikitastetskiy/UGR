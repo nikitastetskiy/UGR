{
 "cells": [
  {
   "cell_type": "markdown",
   "metadata": {},
   "source": [
    "# a) Función para calcular la transformación SubByte de un Byte"
   ]
  },
  {
   "cell_type": "markdown",
   "metadata": {},
   "source": [
    "Para calcular la transformación de un byte s<sub>ij</sub> a su correspondiente s<sup>'</sup><sub>ij</sub> hay que seguir una serie de pasos:\n",
    "\n",
    "1. Primero establecemos los datos sobre los que vamos a trabajar, como lo son el cuerpo, el byte 63 y la longitud de byte.  \n",
    "  \n",
    "  \n",
    "2. Si el byte pasado como parámetro es igual a 0, entonces se devolverá como resultado el byte 63. Si es distinto de 0 se procederá con el algoritmo.\n",
    "  \n",
    "  \n",
    "3. Se calcula la expresión polinomial del byte, transformándolo primero a binario y luego completando el polinomio según si en la posición del coeficiente correspondiente está el bit 1 o no.\n",
    "  \n",
    "  \n",
    "4. Tras esto, calculamos el inverso del byte en el cuerpo (con el simple uso de la operación **pol_byte<sup>-1</sup>**, ya que el cuerpo en el que se trabaja se definió al comienzo.\n",
    "  \n",
    "  \n",
    "5. A continuación, pasamos los coeficientes de dicho polinomio a una lista, la cuál se tratará de la inversa del `byte` pasado como parámetro (si faltan elementos, se rellena con ceros hasta llegar a 8).\n",
    "  \n",
    "  \n",
    "6. Finalmente, se aplica la siguiente fórmula para calcular cada bit de la transformada deseada:\n",
    "$$b^´_{i} = b_{i} + b_{(i+4)  mód 8} + b_{(i+5)  mód 8} + b_{(i+6)  mód 8} + b_{(i+7)  mód 8} + c_{i}$$  \n",
    "  \n",
    "  \n",
    "7. Se devuelve el byte."
   ]
  },
  {
   "cell_type": "code",
   "execution_count": 4,
   "metadata": {},
   "outputs": [],
   "source": [
    "def subByte(byte):\n",
    "    \n",
    "    K.<a> = GF(2^8, modulus=x^8 + x^4 + x^3 + x + 1)\n",
    "    byte_63 = [1, 1, 0, 0, 0, 1, 1, 0]\n",
    "    byte_length = 8\n",
    "        \n",
    "    if byte == \"00\" or byte == \"0x0\":\n",
    "        return \"0x63\"\n",
    "    \n",
    "    binary_b = bin(int(byte, 16))[2:].zfill(byte_length)\n",
    "    pol_byte = 0*a\n",
    "    \n",
    "    for i, bit in enumerate(binary_b):\n",
    "        if bit == \"1\":\n",
    "            pol_byte += a^(len(binary_b)-1-i)\n",
    "    \n",
    "    bb = (pol_byte^-1).polynomial()\n",
    "    \n",
    "    inverse_byte = []\n",
    "    for elem in bb:\n",
    "        inverse_byte.append(elem)\n",
    "        \n",
    "    while (len(inverse_byte) < byte_length):\n",
    "        inverse_byte.append(0)\n",
    "\n",
    "    subByte = \"\"\n",
    "    \n",
    "    for i, bit in enumerate(inverse_byte):\n",
    "        bi = (inverse_byte[i] + inverse_byte[(i+4)%byte_length] \n",
    "              + inverse_byte[(i+5)%byte_length] + inverse_byte[(i+6)%byte_length] \n",
    "              + inverse_byte[(i+7)%byte_length] + byte_63[i])%2\n",
    "        \n",
    "        subByte = str(bi) + subByte\n",
    "        \n",
    "    return hex(int(subByte, 2))"
   ]
  },
  {
   "cell_type": "markdown",
   "metadata": {},
   "source": [
    "# b) Función para calcular la matriz de SubBytes"
   ]
  },
  {
   "cell_type": "markdown",
   "metadata": {},
   "source": [
    "Esta función calcula la matriz de `SubBytes`. Simplemente llama a la función anterior desde el byte 0 hasta el byte 255 y guarda los resultados en una lista de listas."
   ]
  },
  {
   "cell_type": "code",
   "execution_count": 39,
   "metadata": {},
   "outputs": [],
   "source": [
    "def subBytesMatrix():\n",
    "    M = []\n",
    "    counter = 0\n",
    "    n_rows_and_cols = 16\n",
    "    \n",
    "    for i in range(n_rows_and_cols):\n",
    "        row = []\n",
    "        \n",
    "        for j in range(n_rows_and_cols):\n",
    "            row.append(subByte(hex(counter)))\n",
    "            counter += 1\n",
    "        \n",
    "        M.append(row)\n",
    "    \n",
    "    return M"
   ]
  },
  {
   "cell_type": "code",
   "execution_count": 41,
   "metadata": {},
   "outputs": [],
   "source": [
    "M = subBytesMatrix();"
   ]
  },
  {
   "cell_type": "code",
   "execution_count": 42,
   "metadata": {},
   "outputs": [
    {
     "name": "stdout",
     "output_type": "stream",
     "text": [
      "[['0x63', '0x7c', '0x77', '0x7b', '0xf2', '0x6b', '0x6f', '0xc5', '0x30', '0x1', '0x67', '0x2b', '0xfe', '0xd7', '0xab', '0x76'], ['0xca', '0x82', '0xc9', '0x7d', '0xfa', '0x59', '0x47', '0xf0', '0xad', '0xd4', '0xa2', '0xaf', '0x9c', '0xa4', '0x72', '0xc0'], ['0xb7', '0xfd', '0x93', '0x26', '0x36', '0x3f', '0xf7', '0xcc', '0x34', '0xa5', '0xe5', '0xf1', '0x71', '0xd8', '0x31', '0x15'], ['0x4', '0xc7', '0x23', '0xc3', '0x18', '0x96', '0x5', '0x9a', '0x7', '0x12', '0x80', '0xe2', '0xeb', '0x27', '0xb2', '0x75'], ['0x9', '0x83', '0x2c', '0x1a', '0x1b', '0x6e', '0x5a', '0xa0', '0x52', '0x3b', '0xd6', '0xb3', '0x29', '0xe3', '0x2f', '0x84'], ['0x53', '0xd1', '0x0', '0xed', '0x20', '0xfc', '0xb1', '0x5b', '0x6a', '0xcb', '0xbe', '0x39', '0x4a', '0x4c', '0x58', '0xcf'], ['0xd0', '0xef', '0xaa', '0xfb', '0x43', '0x4d', '0x33', '0x85', '0x45', '0xf9', '0x2', '0x7f', '0x50', '0x3c', '0x9f', '0xa8'], ['0x51', '0xa3', '0x40', '0x8f', '0x92', '0x9d', '0x38', '0xf5', '0xbc', '0xb6', '0xda', '0x21', '0x10', '0xff', '0xf3', '0xd2'], ['0xcd', '0xc', '0x13', '0xec', '0x5f', '0x97', '0x44', '0x17', '0xc4', '0xa7', '0x7e', '0x3d', '0x64', '0x5d', '0x19', '0x73'], ['0x60', '0x81', '0x4f', '0xdc', '0x22', '0x2a', '0x90', '0x88', '0x46', '0xee', '0xb8', '0x14', '0xde', '0x5e', '0xb', '0xdb'], ['0xe0', '0x32', '0x3a', '0xa', '0x49', '0x6', '0x24', '0x5c', '0xc2', '0xd3', '0xac', '0x62', '0x91', '0x95', '0xe4', '0x79'], ['0xe7', '0xc8', '0x37', '0x6d', '0x8d', '0xd5', '0x4e', '0xa9', '0x6c', '0x56', '0xf4', '0xea', '0x65', '0x7a', '0xae', '0x8'], ['0xba', '0x78', '0x25', '0x2e', '0x1c', '0xa6', '0xb4', '0xc6', '0xe8', '0xdd', '0x74', '0x1f', '0x4b', '0xbd', '0x8b', '0x8a'], ['0x70', '0x3e', '0xb5', '0x66', '0x48', '0x3', '0xf6', '0xe', '0x61', '0x35', '0x57', '0xb9', '0x86', '0xc1', '0x1d', '0x9e'], ['0xe1', '0xf8', '0x98', '0x11', '0x69', '0xd9', '0x8e', '0x94', '0x9b', '0x1e', '0x87', '0xe9', '0xce', '0x55', '0x28', '0xdf'], ['0x8c', '0xa1', '0x89', '0xd', '0xbf', '0xe6', '0x42', '0x68', '0x41', '0x99', '0x2d', '0xf', '0xb0', '0x54', '0xbb', '0x16']]\n"
     ]
    }
   ],
   "source": [
    "print(M)"
   ]
  },
  {
   "cell_type": "code",
   "execution_count": null,
   "metadata": {},
   "outputs": [],
   "source": []
  }
 ],
 "metadata": {
  "kernelspec": {
   "display_name": "SageMath 9.0",
   "language": "sage",
   "name": "sagemath"
  },
  "language_info": {
   "codemirror_mode": {
    "name": "ipython",
    "version": 3
   },
   "file_extension": ".py",
   "mimetype": "text/x-python",
   "name": "python",
   "nbconvert_exporter": "python",
   "pygments_lexer": "ipython3",
   "version": "3.8.5"
  }
 },
 "nbformat": 4,
 "nbformat_minor": 4
}
