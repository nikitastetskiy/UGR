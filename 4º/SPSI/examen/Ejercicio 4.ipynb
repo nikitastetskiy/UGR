{
 "cells": [
  {
   "cell_type": "code",
   "execution_count": 74,
   "metadata": {},
   "outputs": [],
   "source": [
    "import random"
   ]
  },
  {
   "cell_type": "markdown",
   "metadata": {},
   "source": [
    "## División y reparto del secreto"
   ]
  },
  {
   "cell_type": "markdown",
   "metadata": {},
   "source": [
    "Lo primero que debemos hacer es extraer los datos del enunciado:\n",
    "\n",
    "- El secreto de valor es 111332 ($S=111332$)\n",
    "- Se repartirá entre 30 partícipes ($n=30$)\n",
    "- Se requerirán 19 de ellos para la reconstrucción($t=19$)"
   ]
  },
  {
   "cell_type": "code",
   "execution_count": 75,
   "metadata": {},
   "outputs": [],
   "source": [
    "S = 111332\n",
    "n = 30\n",
    "t = 19"
   ]
  },
  {
   "cell_type": "markdown",
   "metadata": {},
   "source": [
    "A continuación, se deberá elegir un número primo $p$ que cumpla con que $p > S$ y $p > n$. En nuestro caso, hemos elegido $p = 114167$, que cumple con las condiciones establecidas.\n",
    "\n",
    "Además, declaramos también el cuerpo en el que se va a trabajar e inicializamos el polinomio de cifrado, con nuestro secreto como variable independiente."
   ]
  },
  {
   "cell_type": "code",
   "execution_count": 76,
   "metadata": {},
   "outputs": [],
   "source": [
    "p = 114167\n",
    "A.<x>=GF(p)[]\n",
    "pol_cif = 0*x + S"
   ]
  },
  {
   "cell_type": "markdown",
   "metadata": {},
   "source": [
    "El siguiente paso consiste en obtener al azar $t-1$ puntos, que serán los coeficientes del polinomio"
   ]
  },
  {
   "cell_type": "code",
   "execution_count": 77,
   "metadata": {},
   "outputs": [],
   "source": [
    "for i in range(t-1):\n",
    "    coef = random.randint(1, p)\n",
    "    pol_cif += coef*x^(i+1)"
   ]
  },
  {
   "cell_type": "code",
   "execution_count": 78,
   "metadata": {},
   "outputs": [
    {
     "data": {
      "text/plain": [
       "5920*x^18 + 53024*x^17 + 36773*x^16 + 35119*x^15 + 32693*x^14 + 113057*x^13 + 111616*x^12 + 65897*x^11 + 11309*x^10 + 22963*x^9 + 50961*x^8 + 81757*x^7 + 92672*x^6 + 19116*x^5 + 45718*x^4 + 81642*x^3 + 50606*x^2 + 6489*x + 111332"
      ]
     },
     "execution_count": 78,
     "metadata": {},
     "output_type": "execute_result"
    }
   ],
   "source": [
    "pol_cif"
   ]
  },
  {
   "cell_type": "markdown",
   "metadata": {},
   "source": [
    "Ya tenemos nuestro polinomio de cifrado. Ahora, como nuestro objetivo es compartir el secreto entre $n$ partícipes, debemos generar $n$ puntos en $Z_{p}$ y evaluarlos en el polinomio de cifrado. Cada uno de estos puntos corresponderá a uno de los partícipes."
   ]
  },
  {
   "cell_type": "code",
   "execution_count": 79,
   "metadata": {},
   "outputs": [
    {
     "name": "stdout",
     "output_type": "stream",
     "text": [
      "(1, 1161)\n",
      "(2, 82928)\n",
      "(3, 6751)\n",
      "(4, 22528)\n",
      "(5, 41191)\n",
      "(6, 10048)\n",
      "(7, 572)\n",
      "(8, 36201)\n",
      "(9, 37933)\n",
      "(10, 37923)\n",
      "(11, 80455)\n",
      "(12, 65847)\n",
      "(13, 78616)\n",
      "(14, 65331)\n",
      "(15, 86736)\n",
      "(16, 108501)\n",
      "(17, 63723)\n",
      "(18, 94207)\n",
      "(19, 10707)\n",
      "(20, 99093)\n",
      "(21, 67095)\n",
      "(22, 31171)\n",
      "(23, 53558)\n",
      "(24, 3839)\n",
      "(25, 6340)\n",
      "(26, 19906)\n",
      "(27, 54435)\n",
      "(28, 101551)\n",
      "(29, 108655)\n",
      "(30, 88722)\n"
     ]
    }
   ],
   "source": [
    "points = []\n",
    "for i in range(n):\n",
    "    points.append((i+1, pol_cif(i+1)))\n",
    "    print(points[i])"
   ]
  },
  {
   "cell_type": "markdown",
   "metadata": {},
   "source": [
    "**Ya tenemos nuestro secreto repartido pero ¿y si deseamos recuperarlo?**"
   ]
  },
  {
   "cell_type": "markdown",
   "metadata": {},
   "source": [
    "## Recuperación del secreto"
   ]
  },
  {
   "cell_type": "markdown",
   "metadata": {},
   "source": [
    "Para recuperar el secreto, tendremos que realizar una interpolación de los puntos obtenidos anteriormente para recuperar el polinomio de cifrado. Por suerte, `Sagemath` nos ofrece una sencilla manera de realizar esto.\n",
    "\n",
    "Simplemente debemos llamar a la función `lagrange_polynomial(points)` de nuestro cuerpo, pasando como parámetro la lista de puntos."
   ]
  },
  {
   "cell_type": "code",
   "execution_count": 80,
   "metadata": {},
   "outputs": [],
   "source": [
    "pol_recu = A.lagrange_polynomial(points)"
   ]
  },
  {
   "cell_type": "code",
   "execution_count": 81,
   "metadata": {},
   "outputs": [
    {
     "data": {
      "text/plain": [
       "5920*x^18 + 53024*x^17 + 36773*x^16 + 35119*x^15 + 32693*x^14 + 113057*x^13 + 111616*x^12 + 65897*x^11 + 11309*x^10 + 22963*x^9 + 50961*x^8 + 81757*x^7 + 92672*x^6 + 19116*x^5 + 45718*x^4 + 81642*x^3 + 50606*x^2 + 6489*x + 111332"
      ]
     },
     "execution_count": 81,
     "metadata": {},
     "output_type": "execute_result"
    }
   ],
   "source": [
    "pol_recu"
   ]
  },
  {
   "cell_type": "markdown",
   "metadata": {},
   "source": [
    "**Una vez recuperado el polinomio, podremos tener nuestro secreto de vuelta con el término independiente.**"
   ]
  },
  {
   "cell_type": "code",
   "execution_count": 82,
   "metadata": {},
   "outputs": [
    {
     "data": {
      "text/plain": [
       "111332"
      ]
     },
     "execution_count": 82,
     "metadata": {},
     "output_type": "execute_result"
    }
   ],
   "source": [
    "pol_recu[0]"
   ]
  }
 ],
 "metadata": {
  "kernelspec": {
   "display_name": "SageMath 9.0",
   "language": "sage",
   "name": "sagemath"
  },
  "language_info": {
   "codemirror_mode": {
    "name": "ipython",
    "version": 3
   },
   "file_extension": ".py",
   "mimetype": "text/x-python",
   "name": "python",
   "nbconvert_exporter": "python",
   "pygments_lexer": "ipython3",
   "version": "3.8.5"
  }
 },
 "nbformat": 4,
 "nbformat_minor": 4
}
