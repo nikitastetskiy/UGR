{
 "cells": [
  {
   "cell_type": "markdown",
   "metadata": {},
   "source": [
    "# Ejemplo de criptosistema ELGamal"
   ]
  },
  {
   "cell_type": "markdown",
   "metadata": {},
   "source": [
    "### Participantes: \n",
    "- Nikita Stetskiy\n",
    "- Manuel Hidalgo Carmona\n",
    "- Pablo Pérez Méndez\n",
    "\n",
    "Supongamos el siguiente ejemplo:\n",
    "Bob desea enviar a Alice si está o no aprobada y desea que no lo sepa nadie más, para ello enviará cifrado el texto plano APROBADO a Alice.\n",
    "\n",
    "1. Comenzamos eligiendo un número primo perfecto muy elevado, más grande en función del mensaje que queremos encriptar. Usamos `openssl prime -generate -safe -bits 64` para generar por ejemplo `16554795285782121983`\n",
    "2. Elegimos un elemento g como Es preferible que g sea un elemento primitivo. Lo obtenemos como:\n",
    "```\n",
    "Kk = GF(p)\n",
    "g = Kk.primitive_element()\n",
    "```\n",
    "3. Cada usuario elige aleatoriamente a tal que 0 < a < p − 1 ; le servirá como clave privada para el descifrado y generará una clave pública como terna de (p,g,y), donde y es `y = g^a mod p`\n",
    "\n",
    "### Cifrado\n",
    "Ciframos el mensaje m (0< m < p-1)\n",
    "1. Se elige aleatoriamente un entero k tq: 2 ≤ k ≤ p-1.\n",
    "2. Es enviada a Alice la pareja (y1, y2), donde y1 e y2 se calculan como:\n",
    "```\n",
    "y1 = g^k mod p\n",
    "y2 = m*y^k mod p\n",
    "```\n",
    "\n",
    "### Descifrado\n",
    "Para descifrar realizamos el siguiente cálculo: `y1^-a mod p` donde`y1^-a`representa el inverso de y1^a mod p necesario conocer la clave privada a.\n",
    "1. y1^-a mod p = y1^(p-1-a) mod p. Lo expresamos como y1a = y1^(p-1-a) mod p\n",
    "2. Resolvemos `y1a*y2 mod p` para desencriptar el mensaje. `des = y1a*y2 mod p`"
   ]
  },
  {
   "cell_type": "markdown",
   "metadata": {},
   "source": [
    "## Ejemplo implementado"
   ]
  },
  {
   "cell_type": "markdown",
   "metadata": {},
   "source": [
    "Primero declaramos 4 funciones que nos facilitarán la codificación y decodificación del mensaje,\n",
    "donde nosotros hemos declarado un alfabeto de 27 caracteres de los cuales el primer caracter es basura, por lo que\n",
    "podemos considerar que son 26.  \n",
    "También definimos el primo que vamos a usar y el mensaje."
   ]
  },
  {
   "cell_type": "code",
   "execution_count": 5,
   "metadata": {},
   "outputs": [],
   "source": [
    "import random  \n",
    "\n",
    "alphabet = \"*ABCDEFGHIJKLMNOPQRSTUVWXYZ\"\n",
    "PRIMO = 16554795285782121983 # Primo aleatorio con openssl prime -generate -safe -bits 64\n",
    "SECRETO = 'APROBADO'\n",
    "\n",
    "#Trasformar letras a indices (letras a lista de numeros) (biyeccion f)\n",
    "def f(secret):\n",
    "    secretB10 = []\n",
    "    for x in secret:\n",
    "        secretB10.append(alphabet.index(x)+1)\n",
    "    return secretB10\n",
    "\n",
    "#Trasformar indices a letras (lista de numeros a letras)\n",
    "def df(secret):\n",
    "    secretB26 = \"\"\n",
    "    for x in secret:\n",
    "        secretB26 += alphabet[x-1]\n",
    "    return secretB26\n",
    "\n",
    "#Base 26 a base 10\n",
    "def base10(l):\n",
    "    res = 0\n",
    "    i = len(l)\n",
    "    while i > 0:\n",
    "        res += l[i - 1] * (26)**(len(l) - i)\n",
    "        i = i - 1\n",
    "    return res\n",
    "\n",
    "#Base 10 a base 26\n",
    "def base26(l):\n",
    "    res = []\n",
    "    numel = l\n",
    "    mod = 1\n",
    "    while numel>0:\n",
    "        mod = numel % (26)\n",
    "        res.insert(0,mod)\n",
    "        numel = numel//(26)\n",
    "    return res"
   ]
  },
  {
   "cell_type": "markdown",
   "metadata": {},
   "source": [
    "### Generamos la clave pública (p,g,y)"
   ]
  },
  {
   "cell_type": "code",
   "execution_count": 6,
   "metadata": {},
   "outputs": [
    {
     "name": "stdout",
     "output_type": "stream",
     "text": [
      "p = 16554795285782121983\tPrimo aleatorio seguro \n",
      "g = 5\tGenerador de GF(p)\n",
      "a = 13735770723789946498\tClave privada aleatoria\n",
      "y = 7361591867610993757\n",
      "Su clave pública (p,g,y)\n"
     ]
    }
   ],
   "source": [
    "## Generación de clave pública\n",
    "# Primo aleatorio seguro \n",
    "p = PRIMO\n",
    "\n",
    "#Generador\n",
    "Kk = GF(p)\n",
    "g = Kk.primitive_element()\n",
    "\n",
    "#Clave privada aleatoria\n",
    "a = random.randint(1,p-1)#21702\n",
    "\n",
    "y = mod(g**a, p)\n",
    "\n",
    "print(\"p = \"+ str(p)+ \"\\tPrimo aleatorio seguro \" )\n",
    "print(\"g = \"+ str(g)+ \"\\tGenerador de GF(p)\")\n",
    "print(\"a = \"+ str(a)+ \"\\tClave privada aleatoria\")\n",
    "print(\"y = \"+ str(y))\n",
    "print(\"Su clave pública (p,g,y)\")"
   ]
  },
  {
   "cell_type": "markdown",
   "metadata": {},
   "source": [
    "### Encriptación\n",
    "1. Codificamos el mensaje en base 10\n",
    "2. Generamos k para Bob,(Para crear una \"clave pública\")\n",
    "3. Generamos y1 e y2 (mensaje cifrado) para enviarlos a Alice"
   ]
  },
  {
   "cell_type": "code",
   "execution_count": 7,
   "metadata": {},
   "outputs": [
    {
     "name": "stdout",
     "output_type": "stream",
     "text": [
      "\n",
      "Mensaje a encriptar: APROBADO\n",
      "m = 21548300530\t Codificacion en base 10\n",
      "k = 12852643622952529311\t Clave Bob\n",
      "\n",
      "Bob Cifra el mensaje calculando y1 y y2\n",
      "y1 = 13972793928405672281\n",
      "DOIWLSD*ELJKSX\n",
      "y2 = 12138091748781527801\n",
      "CVD*UHCGFWCHEX\n",
      "\n",
      "Envia y1 e y2 a Alice\n"
     ]
    }
   ],
   "source": [
    "## Encryption\n",
    "#mensaje a encriptar\n",
    "secret = SECRETO\n",
    "print(\"\\nMensaje a encriptar: \" + secret)\n",
    "\n",
    "#Codificacion a base 10\n",
    "m = base10(f(secret))                               \n",
    "print(\"m = \"+str(m) + \"\\t Codificacion en base 10\")\n",
    "\n",
    "#clave del emisor Bob\n",
    "k = random.randint(2,p-1)\n",
    "print(\"k = \"+ str(k) + \"\\t Clave Bob\")\n",
    "\n",
    "y1 = mod(g**k, p)\n",
    "y2 = mod(m*(y**k), p)\n",
    "\n",
    "print(\"\\nBob Cifra el mensaje calculando y1 y y2\")\n",
    "print(\"y1 = \"+str(y1))\n",
    "print(df(base26(int(y1))))\n",
    "print(\"y2 = \"+str(y2))\n",
    "print(df(base26(int(y2))))\n",
    "print(\"\\nEnvia y1 e y2 a Alice\")"
   ]
  },
  {
   "cell_type": "markdown",
   "metadata": {},
   "source": [
    "### Desencriptado\n",
    "1. Generamos el inverso de y1^a mod p\n",
    "2. Recuperamos el mensaje cifrado"
   ]
  },
  {
   "cell_type": "code",
   "execution_count": 8,
   "metadata": {},
   "outputs": [
    {
     "name": "stdout",
     "output_type": "stream",
     "text": [
      "\n",
      "Alice desencripta el mensaje:\n",
      "decrypted = 21548300530\n",
      "APROBADO\n"
     ]
    }
   ],
   "source": [
    "## Decryption\n",
    "y1_a = mod(y1**(p-1-a),p) \n",
    "decrypted = mod(y1_a*y2,p)\n",
    "\n",
    "print(\"\\nAlice desencripta el mensaje:\")\n",
    "print(\"decrypted = \"+str(decrypted))\n",
    "print(df(base26(int(decrypted))))"
   ]
  },
  {
   "cell_type": "code",
   "execution_count": null,
   "metadata": {},
   "outputs": [],
   "source": []
  }
 ],
 "metadata": {
  "kernelspec": {
   "display_name": "SageMath 9.0",
   "language": "sage",
   "name": "sagemath"
  },
  "language_info": {
   "codemirror_mode": {
    "name": "ipython",
    "version": 3
   },
   "file_extension": ".py",
   "mimetype": "text/x-python",
   "name": "python",
   "nbconvert_exporter": "python",
   "pygments_lexer": "ipython3",
   "version": "3.8.5"
  }
 },
 "nbformat": 4,
 "nbformat_minor": 2
}
