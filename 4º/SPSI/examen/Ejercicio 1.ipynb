{
 "cells": [
  {
   "cell_type": "markdown",
   "metadata": {},
   "source": [
    "# Examen\n",
    "\n",
    "## resuelto por:\n",
    "## - Nikita Stetskiy\n",
    "## - Manuel Hidalgo Carmona\n",
    "## - Pablo Pérez Méndez\n",
    "\n",
    "### En este fichero se ha resuelto el ejercicio 1, el cual se encuentra al final, ya que anteriormente se encuentran los ejercicios de las Tareas entregadas. Se han incluido estos ejercicios porque se requiere su implementación a la hora de realizar la actividad del examen."
   ]
  },
  {
   "cell_type": "markdown",
   "metadata": {},
   "source": [
    "# Tarea 2"
   ]
  },
  {
   "cell_type": "markdown",
   "metadata": {},
   "source": [
    " Implemente en Python el criptosistema de Vigenere"
   ]
  },
  {
   "cell_type": "code",
   "execution_count": 1,
   "metadata": {},
   "outputs": [],
   "source": [
    "from math import gcd     # GCD--> Mínimo común múltiplo\n",
    "from collections import Counter # Counter para crear diccionarios con las repeticiones de cada elemento, muy útil\n",
    "\n",
    "\n",
    "# Declaramos nuestro alfabeto. \n",
    "alphabet = \"ABCDEFGHIJKLMNOPQRSTUVWXYZ\"\n",
    "\n",
    "# Función que nos devuelve el índice del caracter pasado como argumento dentro del alfabeto \n",
    "# pasado como argumento.\n",
    "def caracter_a_indice(c):\n",
    "    return alphabet.index(c)\n",
    "\n",
    "# Función que nos devuelve el caracter que se encuentra dentro del alfabeto en el índice pasado\n",
    "# como argumento\n",
    "def indice_a_caracter(i):\n",
    "    return alphabet[i]\n",
    "\n"
   ]
  },
  {
   "cell_type": "code",
   "execution_count": 2,
   "metadata": {},
   "outputs": [],
   "source": [
    "def encriptarVigenere(message, key):\n",
    "    \n",
    "    # Declaramos nuestra variable donde vamos a almacenar nuestro mensaje encriptado\n",
    "    mensajeEncriptado = \"\"\n",
    "\n",
    "    # Vamos a recorrer nuestro mensaje, en cada ciclo vamos a realizar lo siguiente\n",
    "    # 1-> Calculamos el índice donde se encuentra nuestra letra de key en el alfabeto\n",
    "    # 2-> Calculamos el índice donde se encuentra la letra del mensaje que estamos recorriendo\n",
    "    # 3-> Sumamos dichos índices y lo traducimos con nuestro diccionario\n",
    "    # 4-> Añadimos a nuestro texto cifrado dicho carácter\n",
    "    index = 0\n",
    "    for let  in message:\n",
    "        numberKey  = caracter_a_indice(key[index % len(key)])\n",
    "        numberText = caracter_a_indice(let)\n",
    "        \n",
    "        mensajeEncriptado += indice_a_caracter((numberKey + numberText) % len(alphabet))\n",
    "        index += 1\n",
    "\n",
    "    return mensajeEncriptado"
   ]
  },
  {
   "cell_type": "code",
   "execution_count": 3,
   "metadata": {},
   "outputs": [
    {
     "data": {
      "text/plain": [
       "'WOEAJUTTTL'"
      ]
     },
     "execution_count": 3,
     "metadata": {},
     "output_type": "execute_result"
    }
   ],
   "source": [
    "encriptarVigenere('HOLAQUETAL','PATATA')"
   ]
  },
  {
   "cell_type": "code",
   "execution_count": 4,
   "metadata": {},
   "outputs": [],
   "source": [
    "def desencriptarVigenere(message, key):\n",
    "    \n",
    "    # Declaramos nuestra variable donde vamos a almacenar nuestro mensaje desencriptado\n",
    "    mensajeDescifrado = \"\"\n",
    "\n",
    "    # Vamos a recorrer nuestro mensaje cifrado, en cada ciclo vamos a realizar lo siguiente\n",
    "    # 1-> Calculamos el índice donde se encuentra nuestra letra de key en el alfabeto\n",
    "    # 2-> Calculamos el índice donde se encuentra la letra del mensaje que estamos recorriendo\n",
    "    # 3-> Restamos dichos índices y lo traducimos con nuestro diccionario\n",
    "    # 4-> Añadimos a nuestro texto descifrado dicho carácter\n",
    "    # 4-> Añadimos a nuestro texto cifrado dicho carácter\n",
    "    index = 0\n",
    "    for let  in message:\n",
    "        numberKey  = caracter_a_indice(key[index % len(key)])\n",
    "        numberText = caracter_a_indice(let)\n",
    "        \n",
    "        mensajeDescifrado += indice_a_caracter((numberText - numberKey + 26) % len(alphabet))\n",
    "        index += 1\n",
    "\n",
    "\n",
    "    return mensajeDescifrado"
   ]
  },
  {
   "cell_type": "code",
   "execution_count": 5,
   "metadata": {},
   "outputs": [
    {
     "data": {
      "text/plain": [
       "'HOLAQUETAL'"
      ]
     },
     "execution_count": 5,
     "metadata": {},
     "output_type": "execute_result"
    }
   ],
   "source": [
    "desencriptarVigenere('WOEAJUTTTL', 'PATATA')"
   ]
  },
  {
   "cell_type": "markdown",
   "metadata": {},
   "source": [
    "# Tarea 3"
   ]
  },
  {
   "cell_type": "markdown",
   "metadata": {},
   "source": [
    "*Implemente en Python un \"laboratorio\" con lo sucinto para poder atacar\n",
    "cualquier criptograma cifrado mediante un criptosistema de Vigenere*"
   ]
  },
  {
   "cell_type": "markdown",
   "metadata": {},
   "source": [
    "# Descubriendo la longitud de la clave"
   ]
  },
  {
   "cell_type": "code",
   "execution_count": 6,
   "metadata": {},
   "outputs": [],
   "source": [
    "from math import gcd\n",
    "from collections import Counter\n",
    "\n",
    "# Definimos nuestro mensaje cifrado y nuestro alfabeto\n",
    "cifrado = \"UECWKDVLOTTVACKTPVGEZQMDAMRNPDDUXLBUICAMRHOECBHSPQLVIWOFFEAILPNTESMLDRUURIFAEQTTPXADWIAWLACCRPBHSRZIVQWOFROGTTNNXEVIVIBPDTTGAHVIACLAYKGJIEQHGECMESNNOCTHSGGNVWTQHKBPRHMVUOYWLIAFIRIGDBOEBQLIGWARQHNLOISQKEPEIDVXXNETPAXNZGDXWWEYQCTIGONNGJVHSQGEATHSYGSDVVOAQCXLHSPQMDMETRTMDUXTEQQJMFAEEAAIMEZREGIMUECICBXRVQRSMENNWTXTNSRNBPZHMRVRDYNECGSPMEAVTENXKEQKCTTHSPCMQQHSQGTXMFPBGLWQZRBOEIZHQHGRTOBSGTATTZRNFOSMLEDWESIWDRNAPBFOFHEGIXLFVOGUZLNUSRCRAZGZRTTAYFEHKHMCQNTZLENPUCKBAYCICUBNRPCXIWEYCSIMFPRUTPLXSYCBGCCUYCQJMWIEKGTUBRHVATTLEKVACBXQHGPDZEANNTJZTDRNSDTFEVPDXKTMVNAIQMUQNOHKKOAQMTBKOFSUTUXPRTMXBXNPCLRCEAEOIAWGGVVUSGIOEWLIQFOZKSPVMEBLOHLXDVCYSMGOPJEFCXMRUIGDXNCCRPMLCEWTPZMOQQSAWLPHPTDAWEYJOGQSOAVERCTNQQEAVTUGKLJAXMRTGTIEAFWPTZYIPKESMEAFCGJILSBPLDABNFVRJUXNGQSWIUIGWAAMLDRNNPDXGNPTTGLUHUOBMXSPQNDKBDBTEECLECGRDPTYBVRDATQHKQJMKEFROCLXNFKNSCWANNAHXTRGKCJTTRRUEMQZEAEIPAWEYPAJBBLHUEHMVUNFRPVMEDWEKMHRREOGZBDBROGCGANIUYIBNZQVXTGORUUCUTNBOEIZHEFWNBIGOZGTGWXNRHERBHPHGSIWXNPQMJVBCNEIDVVOAGLPONAPWYPXKEFKOCMQTRTIDZBNQKCPLTTNOBXMGLNRRDNNNQKDPLTLNSUTAXMNPTXMGEZKAEIKAGQ\"\n",
    "alphabet = \"ABCDEFGHIJKLMNOPQRSTUVWXYZ\""
   ]
  },
  {
   "cell_type": "markdown",
   "metadata": {},
   "source": [
    "Lo primero que vamos a hacer será construir nuestro método para calcular la longitud de la clave siguiendo la prueba de Friedman. "
   ]
  },
  {
   "cell_type": "code",
   "execution_count": 7,
   "metadata": {},
   "outputs": [],
   "source": [
    "def longitudKeyFriedman(message):\n",
    "    \n",
    "    #K_p es la probabilidad de que dos letras sean iguales \n",
    "    k_p = 0.0719\n",
    "    #k_r es la probabilidad de una coincidencia aleatorio uniforme del alfabeto\n",
    "    k_r  = 1/len(alphabet)\n",
    "    \n",
    "    # Con counter vamos a crear un array donde vamos almacenar cuantas veces esta cada caracter, por ejemplo si hicieramos \n",
    "    # collections.Counter(['a', 'b', 'c', 'a', 'b', 'b'])\n",
    "    # tendríamos ->{'a':2, 'b':3, 'c':1}\n",
    "    frecuencia_letras = Counter(message)\n",
    "    \n",
    "    numerador = 0\n",
    "    denominador = 0\n",
    "    \n",
    "    # Calculamos el numerador de nuestra formula\n",
    "    for index in list(alphabet):\n",
    "        numerador = numerador + (frecuencia_letras[index] * (frecuencia_letras[index] - 1))\n",
    "    \n",
    "    denominador = len(message)*(len(message)-1)\n",
    "    \n",
    "    k_o = numerador / denominador\n",
    "    \n",
    "    lenght_message = len(message)\n",
    "    \n",
    "    longitud = (k_p - k_r) / (k_o - k_r)\n",
    "    \n",
    "    return longitud"
   ]
  },
  {
   "cell_type": "code",
   "execution_count": 8,
   "metadata": {},
   "outputs": [
    {
     "data": {
      "text/plain": [
       "9.97926369328703"
      ]
     },
     "execution_count": 8,
     "metadata": {},
     "output_type": "execute_result"
    }
   ],
   "source": [
    "longitudKeyFriedman(cifrado)"
   ]
  },
  {
   "cell_type": "markdown",
   "metadata": {},
   "source": [
    "Pero esta longitud obtenida es imprecisa. Para precisarla aún más debemos hacer uso del índice de coincidencia. El proceso será el siguiente:\n",
    "     * Vamos a considerar los valores obtenidos próximos a nuestra longitud dada\n",
    "     * Vamos a dividir el texto cifrado en una matriz de longitud el tamaño dado\n",
    "     * A cada una de estas columnas le vamos a aplicar el indice de coincidencia, método el cual está incluido dentro de longitudKeyFriedman pero que será definido aparte en aras de simplificar el proceso.\n",
    "     * Haremos la media de estos valores y guardaremos el valor.\n",
    "     * Una vez obtenidos los valores para las distintas longitudes sustituiremos en la ecuaciación de la prueba de friedman\n",
    "     ( Kp - Kr ) / ( K0 - Kr ) donde K0 será nuestro valor.\n",
    "     * Por último compararemos los valores, el más cercano a 1 nos dirá el tamaño de la clave"
   ]
  },
  {
   "cell_type": "markdown",
   "metadata": {},
   "source": [
    "El primer paso será construir nuestro método para dividir el texto en columnas de tamaño el posible tamaño de la llave"
   ]
  },
  {
   "cell_type": "code",
   "execution_count": 9,
   "metadata": {},
   "outputs": [],
   "source": [
    "def divideColumnas(message, keySize):\n",
    "    #Una vez que se conoce la longitud de la clave, el texto cifrado puede reescribirse en esa\n",
    "    #cantidad de columnas, y cada columna corresponde a una sola letra de la clave\n",
    "    \n",
    "    # Vamos a hacer precisamente eso, para ello recorremos el texto de keySize en keySize añadiendo\n",
    "    # en cada parada nuestra letra a cada columna-fila de nuestra matriz\n",
    "    columns = []\n",
    "  \n",
    "    for index in range(keySize):\n",
    "        i = 0\n",
    "        nextword = \"\"\n",
    "        while (i + index) <= (len(message) - 1):\n",
    "            nextword += message[i + index]\n",
    "            i += keySize\n",
    "      \n",
    "        columns.append(nextword)\n",
    "    \n",
    "    return columns"
   ]
  },
  {
   "cell_type": "markdown",
   "metadata": {},
   "source": [
    "Vamos a crear nuestro método para calcular el indice de coincidencia que tendrá cada columna. "
   ]
  },
  {
   "cell_type": "code",
   "execution_count": 10,
   "metadata": {},
   "outputs": [],
   "source": [
    "def indiceCoincidencia(message, alphabet):\n",
    "    \n",
    "    # Con counter vamos a crear un array donde vamos almacenar cuantas veces esta cada caracter, por ejemplo si hicieramos \n",
    "    # collections.Counter(['a', 'b', 'c', 'a', 'b', 'b'])\n",
    "    # tendríamos ->{'a':2, 'b':3, 'c':1}\n",
    "    frecuencia_letras = Counter(message)\n",
    "    \n",
    "    numerador = 0\n",
    "    denominador = 0\n",
    "    \n",
    "    # Calculamos el numerador de nuestra formula\n",
    "    for index in list(alphabet):\n",
    "        numerador = numerador + (frecuencia_letras[index] * (frecuencia_letras[index] - 1))\n",
    "    \n",
    "    denominador = len(message)*(len(message)-1)\n",
    "    \n",
    "    indiceCoincidencia = numerador / denominador\n",
    "    \n",
    "    return indiceCoincidencia\n"
   ]
  },
  {
   "cell_type": "markdown",
   "metadata": {},
   "source": [
    "A continuación dividiremos el texto en columnas de tamaño lengh, a cada columna le aplicaremos el indice de coincidencia y calcularemos su media. A dicha media le aplicaremos la fórmula"
   ]
  },
  {
   "cell_type": "code",
   "execution_count": 11,
   "metadata": {},
   "outputs": [],
   "source": [
    "def aproxiaciónFriedman(message, lengh):\n",
    "    #K_p es la probabilidad de que dos letras sean iguales \n",
    "    k_p = 0.0719\n",
    "    \n",
    "    #k_r es la probabilidad de una coincidencia aleatorio uniforme del alfabeto\n",
    "    k_r  = 1/len(alphabet)\n",
    "\n",
    "    columns = divideColumnas(message, lengh)\n",
    "    \n",
    "    # Vamos a reocorrer todas las columnas realizandole a cada una el indice de coincidencia\n",
    "    value = 0\n",
    "    for index in range(lengh) :\n",
    "        value += indiceCoincidencia(columns[index], alphabet)\n",
    "\n",
    "    # Calculamos la media\n",
    "    value = value / len(columns)\n",
    "\n",
    "    resultado = (k_p - k_r) / (value - k_r)\n",
    "\n",
    "    return resultado"
   ]
  },
  {
   "cell_type": "markdown",
   "metadata": {},
   "source": [
    "Vamos a centrarnos en el conjunto de los números cercanos al valor que nos devolvió nuestro método longitudKeyFriedman, para ello vamos a coger el siguiente grupo --> {7,8,9,10,11}"
   ]
  },
  {
   "cell_type": "code",
   "execution_count": 12,
   "metadata": {},
   "outputs": [
    {
     "data": {
      "text/plain": [
       "1.0319480645090948"
      ]
     },
     "execution_count": 12,
     "metadata": {},
     "output_type": "execute_result"
    }
   ],
   "source": [
    "aproxiaciónFriedman(cifrado,7)"
   ]
  },
  {
   "cell_type": "code",
   "execution_count": 13,
   "metadata": {},
   "outputs": [
    {
     "data": {
      "text/plain": [
       "10.681870683529928"
      ]
     },
     "execution_count": 13,
     "metadata": {},
     "output_type": "execute_result"
    }
   ],
   "source": [
    "aproxiaciónFriedman(cifrado,8)"
   ]
  },
  {
   "cell_type": "code",
   "execution_count": 14,
   "metadata": {},
   "outputs": [
    {
     "data": {
      "text/plain": [
       "13.8655903294368"
      ]
     },
     "execution_count": 14,
     "metadata": {},
     "output_type": "execute_result"
    }
   ],
   "source": [
    "aproxiaciónFriedman(cifrado,9)"
   ]
  },
  {
   "cell_type": "code",
   "execution_count": 15,
   "metadata": {},
   "outputs": [
    {
     "data": {
      "text/plain": [
       "11.329378292939923"
      ]
     },
     "execution_count": 15,
     "metadata": {},
     "output_type": "execute_result"
    }
   ],
   "source": [
    "aproxiaciónFriedman(cifrado,10)"
   ]
  },
  {
   "cell_type": "code",
   "execution_count": 16,
   "metadata": {},
   "outputs": [
    {
     "data": {
      "text/plain": [
       "15.880217311804655"
      ]
     },
     "execution_count": 16,
     "metadata": {},
     "output_type": "execute_result"
    }
   ],
   "source": [
    "aproxiaciónFriedman(cifrado,11)"
   ]
  },
  {
   "cell_type": "markdown",
   "metadata": {},
   "source": [
    "Observamos que el valor más cercano a 1 es con la longitud 7. Vamos a comprobarlo también con el método kaviski. Los pasos para calcular la longitud por es método que se van a seguir son los siguientes:\n",
    "    * Recorreremos el mensaje cifrado con patrones que irán de longitud 3 a 6\n",
    "    * Una vez encontremos dos cadenas de carácteres que coincidan guardaremos la distancia con la anterior.\n",
    "    * Vamos a analizar dicho resultado, dividirlo por las cadenas que más vecen se han repetido y aplicarle a dichos resultados el mínimo común múltiplo"
   ]
  },
  {
   "cell_type": "code",
   "execution_count": 17,
   "metadata": {},
   "outputs": [],
   "source": [
    "def longitudKeykaviski(message):\n",
    "    \n",
    "    # En este map se guardaran de tal forma\n",
    "    # {'UEC': [292], 'VAC': [507], 'GEZ': [1022], 'BOEIZ': [553], 'OEIZH': [553]}\n",
    "    secuencias = {} \n",
    "    # Este array lo añadimos para tener las distancias separadas y tratarlas más tarde\n",
    "    distances = []\n",
    "    # Vamos a comprobar secuencias repetidas de 3 a 6 de longitud\n",
    "    for seqLen in range(3, 6):\n",
    "        for seqStart in range(len(message) - seqLen):\n",
    "            # Cogemos nunestro secuencia de 3 letras y buscamos en el resto del mensaje por repeticiones de esta\n",
    "            seq = message[seqStart:seqStart + seqLen]\n",
    "            for i in range(seqStart + seqLen, len(message) - seqLen):\n",
    "                if message[i:i + seqLen] == seq:\n",
    "                    # Hemos ecnontrado una secuencia repetida\n",
    "                    if seq not in secuencias:\n",
    "                        # No estaba de antes la inicializamos \n",
    "                        secuencias[seq] = []  \n",
    "\n",
    "                    # Calculamos la distancia y la añadimos por la clave de esta secuencia\n",
    "                    secuencias[seq].append(i - seqStart)\n",
    "                    # Añadimos la distancia en nuestro array de distancias\n",
    "                    distances.append(i-seqStart)\n",
    "\n",
    "\n",
    "    # Vamos a utilizar de nuevo la funcion Counter para poder transformar nuestro array de distancias en un diccionario donde la \n",
    "    # distancia será la llave y el numero de veces que se repite el valor\n",
    "    distanciasRepeticiones = Counter(distances)\n",
    "\n",
    "    # De nuestro array de distancias nos va a interesar aquellas que más veces se hayan repetido, para ello nos vamos a quedar con las 6 \n",
    "    # más repetidas y a estas le aplicaremos en mínimo común multiplo\n",
    "\n",
    "    maxDistanReps = distanciasRepeticiones.most_common(6)\n",
    "\n",
    "    # Aplicamos el mínimo común múltiplo\n",
    "    mcm = maxDistanReps[0][0]\n",
    "    for index in range(1, len(maxDistanReps)):\n",
    "        if maxDistanReps[index][1] > 1:\n",
    "            mcm = gcd(mcm, maxDistanReps[index][0])\n",
    "    return mcm \n",
    "\n",
    "\n"
   ]
  },
  {
   "cell_type": "code",
   "execution_count": 18,
   "metadata": {},
   "outputs": [
    {
     "data": {
      "text/plain": [
       "7"
      ]
     },
     "execution_count": 18,
     "metadata": {},
     "output_type": "execute_result"
    }
   ],
   "source": [
    "longitudKeykaviski(cifrado)"
   ]
  },
  {
   "cell_type": "markdown",
   "metadata": {},
   "source": [
    "Ambos métodos nos han ofrecido el mismo resultado. Concluimos entonces que la longitud de la clave usada para cifrar el texto fue de 7."
   ]
  },
  {
   "cell_type": "markdown",
   "metadata": {},
   "source": [
    "# Descubriendo la llave"
   ]
  },
  {
   "cell_type": "markdown",
   "metadata": {},
   "source": [
    "Para descubir la llave nos vamos a valer de la frecuencia con la que se repiten las letras en castellano"
   ]
  },
  {
   "cell_type": "code",
   "execution_count": 19,
   "metadata": {},
   "outputs": [],
   "source": [
    "# Frecuencia de cada caracter en castellano en %. fuente--> wikipedia\n",
    "freq_esp = [0.1253, 0.0142, 0.0468, 0.0586, 0.1368, 0.0069, 0.0101, 0.0070,0.0625, 0.0044, 0.0002, 0.0497, 0.0315, 0.0671, 0.031,\n",
    "            0.0868, 0.0251, 0.0088, 0.0687, 0.0798, 0.0463, 0.0393, 0.0090, 0.0001, 0.00022, 0.0090, 0.0052]\n"
   ]
  },
  {
   "cell_type": "markdown",
   "metadata": {},
   "source": [
    "El proceso para descubrir la llave se va a basar obviamente en la longitud de esta. Si dividimos el texto en columnas como hicimos anteriormente, cada carácter de esa columna va a estar cifrada por la misma letra, lo que significa que va a tener el mismo desplazamiento dentro del alfabeto. \n",
    "\n",
    "El proceso entonces para descubir cada caracter será el siguiente:\n",
    "    * Para cada columna vamos a calcular la frecuencia con la que cada caracter se repite\n",
    "    * A esta lista de frecuencias le vamos a calcular la diferencia existente con las frecuencias que tiene el lenguaje español y lo vamos a guardar \n",
    "    * Vamos a ir rotando la lista y calculando las distitnas diferencias. \n",
    "    * Por último vamos a calcular cual es la posición de la rotación que menos diferencia nos ha dado con nuestro lenguaje, siendo este el más factible caracter."
   ]
  },
  {
   "cell_type": "code",
   "execution_count": 20,
   "metadata": {},
   "outputs": [],
   "source": [
    "def diferenciaTotal(list1, list2):    \n",
    "# Esta función va a recorrer la lista de frecuencias, comparandola con las frecuencias españolas dadas. Vamos a \n",
    "# calcular la suma que existe entre ellas para más tarde quedarnos con la más pequeña, que será nuestra más factible letra\n",
    "    suma = 0\n",
    "    i = 0\n",
    "    while i < len(list1):\n",
    "        suma += abs(list2[i] - list1[i])\n",
    "        i += 1\n",
    "    \n",
    "    return suma  "
   ]
  },
  {
   "cell_type": "code",
   "execution_count": 21,
   "metadata": {},
   "outputs": [],
   "source": [
    "def rotarLista(old_list):  \n",
    "    # Esta función lo único que hace es cambiar el primer elemento de la lista por el último, vamos a ir rotando\n",
    "    # para que se comprueben las diferencias de todas las posibles candidatas\n",
    "    mylist = old_list[:]\n",
    "    mylist.append(old_list[0])\n",
    "    del mylist[0]\n",
    "    return mylist"
   ]
  },
  {
   "cell_type": "code",
   "execution_count": 22,
   "metadata": {},
   "outputs": [],
   "source": [
    "def buscaLetra(fila):\n",
    "    \n",
    "    # Declaramos nuestros dos arrays donde iremos acumulando los resultados\n",
    "    frecuencias = []\n",
    "    diferencias = []\n",
    "    \n",
    "    # Hacemos diccionario con las frecuencias de cada una --> {a: 2, b:10..etc}\n",
    "    myFrec = Counter(fila)\n",
    "    \n",
    "    # Recorremos el alfabeto y guardamos el valor de la frecuencia = ocurrencias / longitud fila\n",
    "    for letra in list(alphabet):\n",
    "        frecuencias.append(myFrec[letra]/len(fila)) \n",
    "\n",
    "    diferencias.append(diferenciaTotal(frecuencias, freq_esp))\n",
    "    \n",
    "    # Ahora vamos a ir rotando y guardando la diferencia para cada rotación\n",
    "    i = 0\n",
    "    while i < len(alphabet) - 1:\n",
    "        frecuencias = rotarLista(frecuencias)\n",
    "        diferencias.append(diferenciaTotal(frecuencias, freq_esp))\n",
    "        i += 1 \n",
    "\n",
    "    \n",
    "    mejorRotacion = 0\n",
    "    \n",
    "    # Vamos a recorrer el array de diferencias y encontrar cual es la que menor diferencia otorga, la cual será \n",
    "    # nuestra mejor rotación y nos dará la posición de nuestro mejor caracter\n",
    "    i = 0\n",
    "    while i < len(diferencias) - 1:\n",
    "        if (diferencias[i] < diferencias[mejorRotacion]):\n",
    "            mejorRotacion = i\n",
    "    \n",
    "        i += 1\n",
    "    \n",
    "    # Una vez tenemos la mejor rotación simplemente cogemos la letra del alfabeto\n",
    "    miLetra = alphabet[mejorRotacion]\n",
    "            \n",
    "    return miLetra\n",
    "            \n",
    "            "
   ]
  },
  {
   "cell_type": "code",
   "execution_count": 23,
   "metadata": {},
   "outputs": [],
   "source": [
    "def descubreClave():\n",
    "    word = \"\"\n",
    "    columnas = divideColumnas(cifrado, 7)\n",
    "    \n",
    "    for index in range(len(columnas)):\n",
    "    \n",
    "        word += buscaLetra(columnas[index])\n",
    "    \n",
    "    \n",
    "    return word"
   ]
  },
  {
   "cell_type": "code",
   "execution_count": 24,
   "metadata": {},
   "outputs": [
    {
     "data": {
      "text/plain": [
       "'CAPITAN'"
      ]
     },
     "execution_count": 24,
     "metadata": {},
     "output_type": "execute_result"
    }
   ],
   "source": [
    "descubreClave()"
   ]
  },
  {
   "cell_type": "code",
   "execution_count": 25,
   "metadata": {},
   "outputs": [
    {
     "data": {
      "text/plain": [
       "'SENORDIJOELCAPITANNEMOMOSTRANDOMELOSINSTRUMENTOSCOLGADOSDELASPAREDESDESUCAMAROTEHEAQUILOSAPARATOSEXIGIDOSPORLANAVEGACIONDELNAUTILUSALIGUALQUEENELSALONLOSTENGOAQUIBAJOMISOJOSINDICANDOMEMISITUACIONYMIDIRECCIONEXACTASENMEDIODELOCEANOALGUNOSDEELLOSLESONCONOCIDOSCOMOELTERMOMETROQUEMARCALATEMPERATURAINTERIORDELNAUTILUSELBAROMETROQUEPESAELAIREYPREDICELOSCAMBIOSDETIEMPOELHIGROMETROQUEREGISTRAELGRADODESEQUEDADDELAATMOSFERAELSTORMGLASSCUYAMEZCLAALDESCOMPONERSEANUNCIALAINMINENCIADELASTEMPESTADESLABRUJULAQUEDIRIGEMIRUTAELSEXTANTEQUEPORLAALTURADELSOLMEINDICAMILATITUDLOSCRONOMETROSQUEMEPERMITENCALCULARMILONGITUDYPORULTIMOMISANTEOJOSDEDIAYDENOCHEQUEMESIRVENPARAESCRUTARTODOSLOSPUNTOSDELHORIZONTECUANDOELNAUTILUSEMERGEALASUPERFICIEDELASAGUASSONLOSINSTRUMENTOSHABITUALESDELNAVEGANTEYSUUSOMEESCONOCIDOREPUSEPEROHAYOTROSAQUIQUERESPONDENSINDUDAALASPARTICULARESEXIGENCIASDELNAUTILUSESECUADRANTEQUEVEORECORRIDOPORUNAAGUJAINMOVILNOESUNMANOMETROESUNMANOMETROENEFECTOPUESTOENCOMUNICACIONCONELAGUACUYAPRESIONEXTERIORINDICADATAMBIENLAPROFUNDIDADALAQUESEMANTIENEMIAPARATO'"
      ]
     },
     "execution_count": 25,
     "metadata": {},
     "output_type": "execute_result"
    }
   ],
   "source": [
    "desencriptarVigenere(cifrado, \"CAPITAN\")"
   ]
  },
  {
   "cell_type": "markdown",
   "metadata": {},
   "source": [
    "# Examen\n"
   ]
  },
  {
   "cell_type": "markdown",
   "metadata": {},
   "source": [
    "# 1. (hasta 2.5 puntos) A lo largo del curso hemos tenido ocasión de estudiar con bastante profundidad el criptosistema de Vigenère. Hoy pretendemos recorrer algo que quedó pendiente y es lo siguiente:"
   ]
  },
  {
   "cell_type": "markdown",
   "metadata": {},
   "source": [
    "## a) Dado un mensaje M de texto llano a cifrar con el criptosistema de Vigenère, razone e imple- mente1 un método para generar una clave “aleatoria” de la misma longitud que M.\n"
   ]
  },
  {
   "cell_type": "code",
   "execution_count": 26,
   "metadata": {},
   "outputs": [],
   "source": [
    "import random\n",
    "import string\n",
    "\n",
    "# Gracias a esta función creamos letras en mayúsculas 'aleatorias' y las guardamos en resultado\n",
    "# La longitud la especificamos en length y posteriormente devolvemos el resultado con los \n",
    "# valores generados\n",
    "\n",
    "def random_string(length):\n",
    "    letras = string.ascii_uppercase\n",
    "    resultado = ''.join(random.choice(letras) for i in range(length))\n",
    "    return resultado"
   ]
  },
  {
   "cell_type": "markdown",
   "metadata": {},
   "source": [
    "## b) Cifre mediante la cifra de Vigenère (implementado en la Tarea 2) el texto llano que obtuvo en el ataque llevado a cabo en la Tarea 4, y hágalo con una clave de su misma longitud obtenida con lo implementado en el apartado anterior."
   ]
  },
  {
   "cell_type": "code",
   "execution_count": 27,
   "metadata": {},
   "outputs": [
    {
     "name": "stdout",
     "output_type": "stream",
     "text": [
      "Message:  SENORDIJOELCAPITANNEMOMOSTRANDOMELOSINSTRUMENTOSCOLGADOSDELASPAREDESDESUCAMAROTEHEAQUILOSAPARATOSEXIGIDOSPORLANAVEGACIONDELNAUTILUSALIGUALQUEENELSALONLOSTENGOAQUIBAJOMISOJOSINDICANDOMEMISITUACIONYMIDIRECCIONEXACTASENMEDIODELOCEANOALGUNOSDEELLOSLESONCONOCIDOSCOMOELTERMOMETROQUEMARCALATEMPERATURAINTERIORDELNAUTILUSELBAROMETROQUEPESAELAIREYPREDICELOSCAMBIOSDETIEMPOELHIGROMETROQUEREGISTRAELGRADODESEQUEDADDELAATMOSFERAELSTORMGLASSCUYAMEZCLAALDESCOMPONERSEANUNCIALAINMINENCIADELASTEMPESTADESLABRUJULAQUEDIRIGEMIRUTAELSEXTANTEQUEPORLAALTURADELSOLMEINDICAMILATITUDLOSCRONOMETROSQUEMEPERMITENCALCULARMILONGITUDYPORULTIMOMISANTEOJOSDEDIAYDENOCHEQUEMESIRVENPARAESCRUTARTODOSLOSPUNTOSDELHORIZONTECUANDOELNAUTILUSEMERGEALASUPERFICIEDELASAGUASSONLOSINSTRUMENTOSHABITUALESDELNAVEGANTEYSUUSOMEESCONOCIDOREPUSEPEROHAYOTROSAQUIQUERESPONDENSINDUDAALASPARTICULARESEXIGENCIASDELNAUTILUSESECUADRANTEQUEVEORECORRIDOPORUNAAGUJAINMOVILNOESUNMANOMETROESUNMANOMETROENEFECTOPUESTOENCOMUNICACIONCONELAGUACUYAPRESIONEXTERIORINDICADATAMBIENLAPROFUNDIDADALAQUESEMANTIENEMIAPARATO 1051 \n",
      "\n",
      "Key:  QSSYHASWLFGOLEBWBWGCFKNRUUTQDZFBQXGLXNBJNUXRXAATQOLNLPXBYRRVDYYWWTYWAIPLOPKRSQJMDRCMHVDMSLHSHJKHWESMMDFJMTLUVHOOUFZPQHQYFAQFLXXLOEUTMFSADVABPXQPQUYIVPFRCZUMUAGRLOVTGJHUSITHHQIEHIVUPBSZHVAFEEQPRFXOIPTLSKDRNQIKVYNFNQYWATKMXUOKOFTOJLHNOJSNJLTXZHUOCDGIZFINPGIDLHSSNFRMFJGMIPRECERWGUYADIPVIPSZODYSQASESYQYEVTFTBYITJLNIZLYZIGDFZTIJMCCNATYOVJEIGHMGVKRFIUJGWLTGLNIOXWMZDOXJIIOAWVQPNWLPYXFIDFMZOBOQCTSSQZWFCWSOGIFTVOCYSLDUDBGDNNFRURPXSHXMKDSRXIBQVXWEBWWAACIQMRWEPYAKMNXKNSFLISYCWWGDBBIDZSUJQVRKYVVGKJUUPDHYNJWOVSJBUKODUOMSYPAHVSJJVBYEVVLDQFHOFWIFGRMWFJVEPCUDXGDFSSVHKVYSAGQCAFSJPTIQFQIEVYRSCFGSKCYZULBZEQMJJRDFAXCMFYKERQFHNDUKFGQYJJDIINXTUGXUMKDJSGAWHJOQJEDKIHXBZLXRFZVJBPXERNFARBXKMCAGJMDWPRQFVHZKOKBPSVOMNHREJYXSHSVPNNMPNZFFEWZQSUMEDLRZICUXQYFFTZTRPLNJQMAYNWHMJWCWNQLYAONRMXAZZBAMMEQRGQFIKLXOPWKLLJUDWSOTCLMWKKNDTUUVLMCVMPUFXAQKPBIHDSAAQNLJDKDLHIHIDGLIITNTQKDNXIYFWOXTFTWCKASBJLNRSEWTKVFZMRRWBBCOITFMCHPAMAMUMRDMRGSRGFXOFNGKCNSBMUFXHJGOEHXMWERAMUQMJNJIBQWXBZRZMNKRREOVYRBIRIWDDJUABSFZVBOBRUYPFHZBRLFLYWTROZOLQLQQSLGCBILNEJFMOHEKJXNGFTEXWWTWYBHLCNLIWIPOXUILME 1051\n"
     ]
    },
    {
     "data": {
      "text/plain": [
       "'IWFMYDAFZJRQLTJPBJTGRYZFMNKQQCTNUIUDFATCEOJVKTOLSCWTLSLTBVCVVNYNAWCODMHFQPWRJECQKVCCBDOAKLWSYJDVOIPUSLIXEIZLGHBOPJFPSPELIEBSLRQTZYMTXNYUDGQVTBDTBMYTJCQFUSYZAOGHFWWTPXTCKWCVZYVHPKVHSPEDTDSNXYQRZTKMUXWTJOFTVEVOSYPYNICJMXNULXSVCHXOWZHYUDFBBOXBKSIGNHYWMHWADIQGZZUGZTVXYNXYWBVXTSHQKGYRFIAVBTEOSUYLKRSMFRUPMJKIXMLINCTYCRPJAIXRRDMZXCWGCELYSGJMZKFBXZNZHMFXYYLFHTBARBPUDPDLNTPWGNJCTGNZFSBWMJNESFBSBIKSVECAXGMMSJIIWZZCYLXRMIFXDRYXKIIBDDHPEMXQRJMASGXWPEAOCOOXEZVNWTYNEZPFKYSNYUALGJYODEFTDRLYVFZJDYYZYVJVLJMBJNZQSYAAJAOALLIFSCASLSLJWOFOYZKZUBFHZYQZFJVXOTUHIXPXLZGPNDSOPDPBDOYSTOSGVTMZEXGCIHCGWTROLOPAZFNVKEHYRUFQLIQWPDNYVLBYPZRGSXGDRNXMWAQBWCGVXQXRLZKQQLVSIRVYOVWXSZPPTWTOJSILHFFQOJQRXFQSJNXKKGZPTIADMIKOSGZZZNBKMUSPWTWMVRNXPFTUJVBHSAYPIOLJZOWUPIMSQHRBEHEEDCQNRBOOMKEVQNBPQDSYEMSEFZOTQKWKLYERMODZCCKMTOXLHLMGXRPDKRKLRMLINLCWDCJYWBSFYCEMUVANDKQLJOKVAHZAQFAWIZXFXNSJRKKGFORBESTQVSLMTNDRTMEZKKIYDCLVRFPTSKHWDKKDPARGHMRJGAGAESTSWQAUOUHFNMHTJLCXCIZRZIEEOYYJDXRWMGUYQPOLDEGYVEGCHSEJKRKERQLINFDFFPBQVPUNGJZHPEPCECNBFFHBOYNQTSEGOCQPAPJUDCMYXMFQGITPXMQXOCNHYVVPVAUXOMUZLFS'"
      ]
     },
     "execution_count": 27,
     "metadata": {},
     "output_type": "execute_result"
    }
   ],
   "source": [
    "mensaje = 'SENORDIJOELCAPITANNEMOMOSTRANDOMELOSINSTRUMENTOSCOLGADOSDELASPAREDESDESUCAMAROTEHEAQUILOSAPARATOSEXIGIDOSPORLANAVEGACIONDELNAUTILUSALIGUALQUEENELSALONLOSTENGOAQUIBAJOMISOJOSINDICANDOMEMISITUACIONYMIDIRECCIONEXACTASENMEDIODELOCEANOALGUNOSDEELLOSLESONCONOCIDOSCOMOELTERMOMETROQUEMARCALATEMPERATURAINTERIORDELNAUTILUSELBAROMETROQUEPESAELAIREYPREDICELOSCAMBIOSDETIEMPOELHIGROMETROQUEREGISTRAELGRADODESEQUEDADDELAATMOSFERAELSTORMGLASSCUYAMEZCLAALDESCOMPONERSEANUNCIALAINMINENCIADELASTEMPESTADESLABRUJULAQUEDIRIGEMIRUTAELSEXTANTEQUEPORLAALTURADELSOLMEINDICAMILATITUDLOSCRONOMETROSQUEMEPERMITENCALCULARMILONGITUDYPORULTIMOMISANTEOJOSDEDIAYDENOCHEQUEMESIRVENPARAESCRUTARTODOSLOSPUNTOSDELHORIZONTECUANDOELNAUTILUSEMERGEALASUPERFICIEDELASAGUASSONLOSINSTRUMENTOSHABITUALESDELNAVEGANTEYSUUSOMEESCONOCIDOREPUSEPEROHAYOTROSAQUIQUERESPONDENSINDUDAALASPARTICULARESEXIGENCIASDELNAUTILUSESECUADRANTEQUEVEORECORRIDOPORUNAAGUJAINMOVILNOESUNMANOMETROESUNMANOMETROENEFECTOPUESTOENCOMUNICACIONCONELAGUACUYAPRESIONEXTERIORINDICADATAMBIENLAPROFUNDIDADALAQUESEMANTIENEMIAPARATO'\n",
    "llave = random_string(len(mensaje))\n",
    "\n",
    "print(\"Message: \",mensaje,len(mensaje),\"\\n\\nKey: \",llave,len(llave))\n",
    "\n",
    "cifrado = encriptarVigenere(mensaje,llave)\n",
    "\n",
    "cifrado"
   ]
  },
  {
   "cell_type": "markdown",
   "metadata": {},
   "source": [
    "## c) Aplique las herramientas de laboratorio de sus Tareas 2 y 3 para atacar el criptograma obtenido en el apartado anterior y explique las conclusiones a las que llegue.\n",
    "\n",
    "# Conclusión:\n",
    "\n",
    "Si la clave tiene la misma longitud que el mensaje y se usa solo una vez, es básicamente un One-Time-Pad de un solo uso. Esto significa que, en teoría, puede hacer coincidir cualquier texto cifrado con cualquier texto sin formato con una llave. Si esta clave tiene que coincidir con ciertos criterios (por ejemplo, ser una palabra de un determinado idioma), se perderá el aspecto teórico de la información.\n",
    "\n",
    "La libreta de un solo uso (OTP) es un cifrado teóricamente irrompible. Es un tipo de algoritmos de cifrado por el que el texto en claro se combina con una clave aleatoria o «libreta» igual de larga que el texto en claro y que sólo se utiliza una vez. Fue inventado en 1917. Sin embargo, en la práctica es de usabilidad limitada porque requiere una clave previamente compartida de al menos la misma longitud que el mensaje. Generar claves verdaderamente aleatorias y compartirlas previamente de forma segura son problemas algo desafiantes.\n",
    "\n",
    "Gracias a los apuntes podemos saber que:\n",
    "\n",
    "Si las longitudes de las claves son números primos relativos, la longitud efectiva de las claves aumenta exponencialmente a medida que aumentan las longitudes de las claves individuales. Esto es especialmente cierto si cada longitud de clave es primo individualmente. Por ejemplo, la longitud efectiva de las claves 2, 3 y 5 caracteres es 30, pero la de las claves de 7, 11 y 13 caracteres es 1001. Si esta longitud de clave efectiva es más larga que el texto cifrado, logra la misma inmunidad a las pruebas de Friedman y Kasiski que la variante de clave en ejecución.\n",
    "Si uno usa una clave que es verdaderamente aleatoria, es al menos tan larga como el mensaje cifrado y se usa solo una vez, el cifrado de Vigenére es teóricamente irrompible. Sin embargo, en ese caso la clave, no el cifrado, proporciona fuerza criptográfica y tales sistemas se denominan de manera adecuada en conjunto como sistemas one-time pad (relleno único), independientemente de los cifrados empleados.\n",
    "\n",
    "Como veremos ahora después, lo resultados que nos darán los siguientes ataques no corresponden con la clave original."
   ]
  },
  {
   "cell_type": "code",
   "execution_count": 28,
   "metadata": {},
   "outputs": [
    {
     "data": {
      "text/plain": [
       "-418.23294245858983"
      ]
     },
     "execution_count": 28,
     "metadata": {},
     "output_type": "execute_result"
    }
   ],
   "source": [
    "longitudKeyFriedman(cifrado)"
   ]
  },
  {
   "cell_type": "code",
   "execution_count": 29,
   "metadata": {},
   "outputs": [
    {
     "data": {
      "text/plain": [
       "4"
      ]
     },
     "execution_count": 29,
     "metadata": {},
     "output_type": "execute_result"
    }
   ],
   "source": [
    "longitudKeykaviski(cifrado)"
   ]
  },
  {
   "cell_type": "code",
   "execution_count": 30,
   "metadata": {},
   "outputs": [],
   "source": [
    "def descubreClave():\n",
    "    word = \"\"\n",
    "    columnas = divideColumnas(cifrado, 1051)\n",
    "    \n",
    "    for index in range(len(columnas)):\n",
    "    \n",
    "        word += buscaLetra(columnas[index])\n",
    "    \n",
    "    \n",
    "    return word"
   ]
  },
  {
   "cell_type": "code",
   "execution_count": 31,
   "metadata": {},
   "outputs": [
    {
     "data": {
      "text/plain": [
       "'ESBIUDWBVFNMHPFLXFPCNUVBIJGMMYPJQEQDBWPYAKFRGPKHOYSPHOHPXRYRRJUJWSYKDIDBMLSNFAYMGRYYXDKWGHSOUFDRKELQOHETAEVHCDXKLFBLOLAHEAXOHNMPVUIPTJUQDCMRPXDPXIUPFYMBQOUVWKCDBSSPLTPYGSYRVURDLGRDOLADPDOJTUMNVPGIQTSPFKBPRARKOULUJEYFITJQHTORYDTKSVDUQDBXXKTXGOECJDUSIDSWDEMCVVQCVPRTUJTUSXRTPODMGCUNBEWRXPAKOQUHGNOIBNQLIFGETIHEJYPUYNLFWETNNDIVTYSCYAHUOCFIVGBXTVJVDIBTUUHBDPXWNXLQDLDHJPLSCJFYPCJVBOXSIFJAOBXOXEGORAYWTCIIOFEESVVYUHTNIEBTDNUTGEEXDDDLAITMNFIWOCTSLAWKYKKTAVRJSPUJAVLBGUOJUQWHCFUKDABPDNHURBVFDUUVURFRHFIXFJVMOUWWFWKWHHEBOYWOHOHFSKBKUVGVQXBDVUMVBFRTKPQDETLTHVCLJDOKLDLXDKUOPKOCRPIVATCYEDYCSPNKHKLWVBJRGADUNQBMHEMSLDJURHXULVNCOTCDNJTISWMXSYCRTMTNHVGMMHROENRUKRSTOVLLPSPKFOEHDBBMKFMNTBMOFJTGGCVLPEWDIEGKOCVVVJXGIQOLSPSIRNJTLBPQFRXDOWULEKHFVKSQLEIOMDNXADAADYMJNXKKIGARMJXLMDOUAIOABVKPMGSGHUANIKDVYYGIPKTHDHICTNLDGNGHNIHEJHYSDYFUSXOBUYAIQRWJDGMHFKGRWDVWMBWSEVTBTJOFNGGCBKNXAOPMROHIPJDNPIAVGGEUDYHRNBLPOGDSDGGDLWNCDINFCWCWAOPOSMWQKQDBJIDPFHYTYEVNVEAAKUUFDTNSICQUMLKHDACURACYDOAFGNGANMHEJBDBBLXMRLQJCFVDLALYAYJXBBDXKUJMPOACKYMLWLFQDYIUTIBMCEPLTIMTKYJDURRLRWQTKIQVHBO'"
      ]
     },
     "execution_count": 31,
     "metadata": {},
     "output_type": "execute_result"
    }
   ],
   "source": [
    "clave = descubreClave()\n",
    "clave"
   ]
  },
  {
   "cell_type": "code",
   "execution_count": 32,
   "metadata": {},
   "outputs": [
    {
     "data": {
      "text/plain": [
       "'EEEEEAEEEEEEEEEEEEEEEEEEEEEEEEEEEEEAEEEEEEEEEEEEEEEEEEEEEEEEEEEEEEEEAEEEEEEEEEEEEEEEEAEEEEEEEEAEEEEEEEEEEEEEEEEEEEEEEEEEEEEEEEEEEEEEEEEEAEEEEEAEEEEEEEEEEEEEEEEEEEEEEEEEEEEEEEEEEEEEEEEAEAEEEEEEEEEEEEEEEEEEEEEEEEEEEEEEEEEEEEEEEEEEEEEEEAEEEEEEEEEEEEEEEEEEAEEEEEEEEEEEEEEEEEEEEEEEEEEEEEEEEEEEEEEEEEEEEEEEEEEEEEEEEEEEEEEEEEEEEAEEEEEEEEEEEEEEEEEEEEEEEEEEEEEEEEEEEEEEAEAEEEEEEEEEEEEEEEEEEEEEEEEEEEEEEEEEEEEEEEEEEEEEEEEEEEEEAEEEEEEEAAEEEEEEEEEEEEEEEEEEEEEEEEEEEEEEEEEEEEEEEEEEEEEEAEEEAEEEEEEEAEEEEEEEEEEEEEEEEEEEEEEEEEEEEEEEEEEEEEEEEEEEEEEEEEEEEEEEEEEEEEEEEEEEEAEEEAEEAEEEEEEEEEEEEEEEEEEEEEEEEEEEEEEEEEEEEEEEEEEEEAEEEEEEEEEEEEEAEEEEEEEEEEEEEEEEEEEEEEEEEEEEEEEEEEEEEEEEEEEEEEEEEEEEEEEEEEEEEEEEEEEAEEEEEEEEEEEEEEEEEEEEEEEEEEEEEEEEEEEEEEEEEEEEEEEEEEEEEEEEAEEEEEEEEEEEEEEEEAEEEEEEEEEEEEEEEEEEEEAEEEEEEEEEEEEEEEEAEEEEEEEEEEEEAEEEEEEEEEEEEEEEAEEEEEEEEEEEEEEEEEEEEEEEEEEEEEEEEEEEEEEEEEAEEEEEEEEEAEEEEEEEEEEEAEEAEEEEEEEEEEEEEEEEEEEEEEEEEEEEEEEEEEEEEEEEEEEEAEEEEEEEEEEEAEEEEEEEEEEEEEEEEEEEEEAEEEEEEEEEEEEEEEEEEEEEEEEEEEEEEEEEEEEEEEEEAEEEEEEEEEEEEEEEEEEEEEEEEEEEEEEEEEE'"
      ]
     },
     "execution_count": 32,
     "metadata": {},
     "output_type": "execute_result"
    }
   ],
   "source": [
    "desencriptarVigenere(cifrado, clave)"
   ]
  }
 ],
 "metadata": {
  "kernelspec": {
   "display_name": "Python 3",
   "language": "python",
   "name": "python3"
  },
  "language_info": {
   "codemirror_mode": {
    "name": "ipython",
    "version": 3
   },
   "file_extension": ".py",
   "mimetype": "text/x-python",
   "name": "python",
   "nbconvert_exporter": "python",
   "pygments_lexer": "ipython3",
   "version": "3.8.5"
  }
 },
 "nbformat": 4,
 "nbformat_minor": 2
}
